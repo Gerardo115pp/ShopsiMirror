{
 "cells": [
  {
   "cell_type": "code",
   "execution_count": 1,
   "metadata": {},
   "outputs": [],
   "source": [
    "import openpyxl as excel\n",
    "from openpyxl.utils import get_column_letter as get_col, get_column_interval, dataframe\n",
    "from typing import List, Dict\n",
    "from dataclasses import dataclass, field, asdict\n",
    "import json"
   ]
  },
  {
   "cell_type": "code",
   "execution_count": 2,
   "metadata": {},
   "outputs": [],
   "source": [
    "competitiors = excel.load_workbook(filename='competitors.xlsx')"
   ]
  },
  {
   "cell_type": "code",
   "execution_count": 3,
   "metadata": {},
   "outputs": [
    {
     "data": {
      "text/plain": [
       "['A', 'B', 'C', 'D', 'E', 'F', 'G', 'H']"
      ]
     },
     "execution_count": 3,
     "metadata": {},
     "output_type": "execute_result"
    }
   ],
   "source": [
    "competitiors_sheet = competitiors['Copia de LINKS ACTIVOS ']\n",
    "competitiors_sheet['A2'].value\n",
    "get_column_interval('A', 'H')"
   ]
  },
  {
   "cell_type": "code",
   "execution_count": 4,
   "metadata": {},
   "outputs": [],
   "source": [
    "\n",
    "@dataclass\n",
    "class MeliItem:\n",
    "    is_ours: bool\n",
    "    item_url: str\n",
    "    sku: str\n",
    "\n",
    "    "
   ]
  },
  {
   "cell_type": "code",
   "execution_count": 5,
   "metadata": {},
   "outputs": [],
   "source": [
    "def getHyperLink(cell: excel.cell.Cell) -> str:\n",
    "    link = cell.value if cell.value else ''\n",
    "    if cell.hyperlink is not None:\n",
    "        link = cell.hyperlink.target\n",
    "    link = link if link.startswith('http') else ''\n",
    "    return link"
   ]
  },
  {
   "cell_type": "code",
   "execution_count": 6,
   "metadata": {},
   "outputs": [
    {
     "name": "stdout",
     "output_type": "stream",
     "text": [
      "No link found for 32\n",
      "No link found for 48\n",
      "No link found for 61\n",
      "No link found for 67\n",
      "No link found for 225\n",
      "WARNING: competitor item came up before our item HB131 on row 279\n",
      "No link found for 422\n",
      "No link found for 513\n",
      "No link found for 535\n",
      "No link found for 561\n",
      "No link found for 564\n",
      "No link found for 619\n",
      "No link found for 726\n"
     ]
    }
   ],
   "source": [
    "row_index = 2\n",
    "items: Dict[str, Dict] = {}\n",
    "while (a_value := competitiors_sheet[f\"A{row_index}\"].value) is not None:\n",
    "    \n",
    "    if not (item_link := getHyperLink(competitiors_sheet[f\"I{row_index}\"])):\n",
    "        print(f\"No link found for {row_index}\")\n",
    "        \n",
    "    is_ours = competitiors_sheet[f\"A{row_index}\"].value\n",
    "    is_ours = True if is_ours == \"Propio\" else False\n",
    "    meli_item = MeliItem(is_ours, item_link, competitiors_sheet[f\"D{row_index}\"].value)\n",
    "    if meli_item.is_ours:\n",
    "        assert meli_item.sku not in items, f\"{meli_item.sku} already exists\"\n",
    "        items[meli_item.sku] = asdict(meli_item)\n",
    "        items[meli_item.sku][\"competitors\"] = []\n",
    "    elif meli_item.sku in items:\n",
    "        items[meli_item.sku][\"competitors\"].append(asdict(meli_item))\n",
    "    else:\n",
    "        print(f\"WARNING: competitor item came up before our item {meli_item.sku} on row {row_index}\")\n",
    "    row_index += 1"
   ]
  },
  {
   "cell_type": "code",
   "execution_count": 7,
   "metadata": {},
   "outputs": [],
   "source": [
    "with open('shopsi_data.json', 'w') as f:\n",
    "    json.dump(items, f, indent=4)"
   ]
  }
 ],
 "metadata": {
  "kernelspec": {
   "display_name": "Python 3.10.5 64-bit",
   "language": "python",
   "name": "python3"
  },
  "language_info": {
   "codemirror_mode": {
    "name": "ipython",
    "version": 3
   },
   "file_extension": ".py",
   "mimetype": "text/x-python",
   "name": "python",
   "nbconvert_exporter": "python",
   "pygments_lexer": "ipython3",
   "version": "3.10.5"
  },
  "orig_nbformat": 4,
  "vscode": {
   "interpreter": {
    "hash": "e7370f93d1d0cde622a1f8e1c04877d8463912d04d973331ad4851f04de6915a"
   }
  }
 },
 "nbformat": 4,
 "nbformat_minor": 2
}
